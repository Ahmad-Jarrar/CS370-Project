{
 "cells": [
  {
   "cell_type": "code",
   "execution_count": 76,
   "metadata": {},
   "outputs": [],
   "source": [
    "import json\n",
    "import datetime as dt\n",
    "import random \n",
    "\n",
    "import matplotlib.pyplot as plt\n",
    "\n",
    "import numpy as np\n",
    "import pandas as pd\n",
    "\n",
    "from pandas_datareader.data import DataReader\n",
    "\n",
    "\n",
    "import gym\n",
    "from custom_environment import *\n",
    "\n",
    "from stable_baselines3 import A2C, SAC, PPO, TD3, DDPG\n",
    "\n",
    "from tqdm.notebook import tqdm"
   ]
  },
  {
   "cell_type": "code",
   "execution_count": 77,
   "metadata": {},
   "outputs": [],
   "source": [
    "def evaluate(model, steps=None, convert=False):\n",
    "\n",
    "    profits = []\n",
    "    sims = 10\n",
    "\n",
    "    sim_infos = []\n",
    "\n",
    "    for i in range(sims):\n",
    "        infos = []\n",
    "        obs = test_env.reset()\n",
    "        if steps == None:\n",
    "            while True:\n",
    "                if convert:\n",
    "                    action = model.predict(obs.to_numpy().reshape(-1))    \n",
    "                else:\n",
    "                    action, _states = model.predict(obs)\n",
    "                obs, rewards, done, info = test_env.step(action)\n",
    "                infos.append(info)\n",
    "                if done: \n",
    "                    profits.append(info['profit'])\n",
    "                    # test_env.render()\n",
    "                    sim_infos.append(infos)\n",
    "                    break\n",
    "\n",
    "        else:\n",
    "            for j in range(steps):\n",
    "                action, _states = model.predict(obs)\n",
    "                obs, rewards, done, info = test_env.step(action)\n",
    "                infos.append(info)\n",
    "                if done or j == steps-1: \n",
    "                    profits.append(info['profit'])\n",
    "                    # test_env.render()\n",
    "                    sim_infos.append(infos)\n",
    "                    break\n",
    "\n",
    "        print('finished sim %d/%d'%(i+1,sims))\n",
    "\n",
    "    pos_count = len(list(filter(lambda x: (x >= 0), profits))) \n",
    "    print('made profit - ' + str(pos_count/len(profits)))\n",
    "\n",
    "    return sim_infos\n"
   ]
  },
  {
   "cell_type": "code",
   "execution_count": 78,
   "metadata": {},
   "outputs": [
    {
     "name": "stdout",
     "output_type": "stream",
     "text": [
      "loading data\n",
      "              High          Low         Open        Close        Volume  \\\n",
      "count  5285.000000  5285.000000  5285.000000  5285.000000  5.285000e+03   \n",
      "mean     71.977223    69.307737    70.737365    70.635272  9.312302e+04   \n",
      "std      54.467648    52.628059    53.671556    53.556911  1.316300e+05   \n",
      "min       2.770000     2.520000     2.650000     2.550000  5.000000e+02   \n",
      "25%      13.700000    12.850000    13.350000    13.300000  2.362000e+04   \n",
      "50%      70.900002    68.349998    69.650002    69.550003  4.330000e+04   \n",
      "75%     114.949997   110.849998   113.099998   112.849998  1.042800e+05   \n",
      "max     237.500000   231.500000   235.000000   234.750000  2.127300e+06   \n",
      "\n",
      "         Adj Close  \n",
      "count  5285.000000  \n",
      "mean     31.200699  \n",
      "std      22.912915  \n",
      "min       2.328791  \n",
      "25%      10.283531  \n",
      "50%      24.550537  \n",
      "75%      51.769726  \n",
      "max      87.927231  \n"
     ]
    }
   ],
   "source": [
    "print('loading data')\n",
    "data = DataReader('GOGL', 'yahoo', start='2000-01-01', end='2021-01-01')\n",
    "\n",
    "print(data.describe())"
   ]
  },
  {
   "cell_type": "code",
   "execution_count": 79,
   "metadata": {},
   "outputs": [],
   "source": [
    "test_data = data.tail(365)\n",
    "train_data = data.head(-365)"
   ]
  },
  {
   "cell_type": "code",
   "execution_count": 80,
   "metadata": {},
   "outputs": [
    {
     "name": "stdout",
     "output_type": "stream",
     "text": [
      "This is a testing environment, scaling based on training data.\n"
     ]
    },
    {
     "name": "stderr",
     "output_type": "stream",
     "text": [
      "/home/aftab/anaconda3/lib/python3.8/site-packages/gym/logger.py:30: UserWarning: \u001b[33mWARN: Box bound precision lowered by casting to float16\u001b[0m\n",
      "  warnings.warn(colorize('%s: %s'%('WARN', msg % args), 'yellow'))\n",
      "/home/aftab/anaconda3/lib/python3.8/site-packages/gym/logger.py:30: UserWarning: \u001b[33mWARN: Box bound precision lowered by casting to float16\u001b[0m\n",
      "  warnings.warn(colorize('%s: %s'%('WARN', msg % args), 'yellow'))\n"
     ]
    }
   ],
   "source": [
    "env = CustomStockEnv(\n",
    "    stock_df = train_data,\n",
    "    pred_df = train_data,\n",
    "    window_size = 14,\n",
    "    initial_balance = 5000,\n",
    "    min_percent_loss = .5,\n",
    "    with_pred=False\n",
    "    )\n",
    "\n",
    "test_env = CustomStockEnv(\n",
    "    stock_df = test_data,\n",
    "    pred_df = test_data,\n",
    "    window_size = 14,\n",
    "    initial_balance = 5000,\n",
    "    min_percent_loss = .5,\n",
    "    with_pred=False,\n",
    "    test_env=True,\n",
    "    train_df=train_data\n",
    "    )"
   ]
  },
  {
   "cell_type": "code",
   "execution_count": 81,
   "metadata": {},
   "outputs": [],
   "source": [
    "model_results = {}"
   ]
  },
  {
   "cell_type": "code",
   "execution_count": 82,
   "metadata": {},
   "outputs": [
    {
     "name": "stdout",
     "output_type": "stream",
     "text": [
      "Training A2C\n",
      "done\n",
      "finished sim 1/10\n",
      "finished sim 2/10\n",
      "finished sim 3/10\n",
      "finished sim 4/10\n",
      "finished sim 5/10\n",
      "finished sim 6/10\n",
      "finished sim 7/10\n",
      "finished sim 8/10\n",
      "finished sim 9/10\n",
      "finished sim 10/10\n",
      "made profit - 0.1\n"
     ]
    }
   ],
   "source": [
    "print(\"Training A2C\")\n",
    "\n",
    "env.reset()\n",
    "modelA2C = A2C('MlpPolicy', env, verbose=0)\n",
    "modelA2C.learn(total_timesteps=30000)\n",
    "\n",
    "print('done')\n",
    "modelA2C_info = evaluate(modelA2C)\n",
    "model_results[\"A2C\"] = modelA2C_info"
   ]
  },
  {
   "cell_type": "code",
   "execution_count": 83,
   "metadata": {},
   "outputs": [
    {
     "name": "stdout",
     "output_type": "stream",
     "text": [
      "Training PPO\n",
      "done\n",
      "finished sim 1/10\n",
      "finished sim 2/10\n",
      "finished sim 3/10\n",
      "finished sim 4/10\n",
      "finished sim 5/10\n",
      "finished sim 6/10\n",
      "finished sim 7/10\n",
      "finished sim 8/10\n",
      "finished sim 9/10\n",
      "finished sim 10/10\n",
      "made profit - 0.0\n"
     ]
    }
   ],
   "source": [
    "print(\"Training PPO\")\n",
    "\n",
    "env.reset()\n",
    "modelPPO = PPO('MlpPolicy', env, verbose=0)\n",
    "modelPPO.learn(total_timesteps=30000)\n",
    "\n",
    "print('done')\n",
    "modelPPO_info = evaluate(modelPPO)\n",
    "model_results[\"PPO\"] = modelPPO_info"
   ]
  },
  {
   "cell_type": "code",
   "execution_count": 107,
   "metadata": {},
   "outputs": [
    {
     "name": "stdout",
     "output_type": "stream",
     "text": [
      "A2C\n",
      "Results for 365 days\n",
      "Max Net Worth: 5947.082938711177\n",
      "Mean Net Worth: 3204.8586642714654\n",
      "Max ROI: 0.18941658774223544\n",
      "Mean ROI: -0.3590282671457069\n",
      "\n",
      "PPO\n",
      "Results for 365 days\n",
      "Max Net Worth: 4766.325171654789\n",
      "Mean Net Worth: 3508.4352583816144\n",
      "Max ROI: -0.04673496566904214\n",
      "Mean ROI: -0.2983129483236771\n",
      "\n"
     ]
    }
   ],
   "source": [
    "plots_data = {}\n",
    "\n",
    "for name, results in model_results.items():\n",
    "    print(name)\n",
    "    end_point_net_worth = []\n",
    "\n",
    "\n",
    "    for run in results:\n",
    "        end_point_net_worth.append(run[-1]['net_worth'])\n",
    "\n",
    "    max_run = np.argmax(end_point_net_worth)\n",
    "\n",
    "    print('Results for {} days'.format(365))\n",
    "    print('Max Net Worth: {}'.format(end_point_net_worth[max_run]))\n",
    "    print('Mean Net Worth: {}'.format(np.mean(end_point_net_worth)))\n",
    "    print('Max ROI: {}'.format((np.mean(end_point_net_worth[max_run]) - 5000) / 5000))\n",
    "    print('Mean ROI: {}'.format((np.mean(end_point_net_worth) - 5000) / 5000))    \n",
    "    print()\n"
   ]
  },
  {
   "cell_type": "code",
   "execution_count": null,
   "metadata": {},
   "outputs": [],
   "source": []
  }
 ],
 "metadata": {
  "interpreter": {
   "hash": "2db524e06e9f5f4ffedc911c917cb75e12dbc923643829bf417064a77eb14d37"
  },
  "kernelspec": {
   "display_name": "Python 3",
   "language": "python",
   "name": "python3"
  },
  "language_info": {
   "codemirror_mode": {
    "name": "ipython",
    "version": 3
   },
   "file_extension": ".py",
   "mimetype": "text/x-python",
   "name": "python",
   "nbconvert_exporter": "python",
   "pygments_lexer": "ipython3",
   "version": "3.8.5"
  }
 },
 "nbformat": 4,
 "nbformat_minor": 2
}
