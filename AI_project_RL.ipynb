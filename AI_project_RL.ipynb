{
  "nbformat": 4,
  "nbformat_minor": 0,
  "metadata": {
    "colab": {
      "name": "AI project RL.ipynb",
      "provenance": [],
      "collapsed_sections": []
    },
    "kernelspec": {
      "name": "python3",
      "display_name": "Python 3.8.2 64-bit"
    },
    "language_info": {
      "name": "python",
      "version": "3.8.2"
    },
    "accelerator": "GPU",
    "interpreter": {
      "hash": "2db524e06e9f5f4ffedc911c917cb75e12dbc923643829bf417064a77eb14d37"
    }
  },
  "cells": [
    {
      "cell_type": "code",
      "metadata": {
        "id": "CzEmr06idD09"
      },
      "source": [
        "import argparse\n",
        "import pickle\n",
        "from collections import namedtuple\n",
        "\n",
        "import matplotlib.pyplot as plt\n",
        "import numpy as np\n",
        "\n",
        "import gym\n",
        "import torch\n",
        "import torch.nn as nn\n",
        "import torch.nn.functional as F\n",
        "import torch.optim as optim\n",
        "from torch.distributions import Normal\n",
        "\n",
        "from custom_environment import *\n",
        "from pandas_datareader.data import DataReader"
      ],
      "execution_count": 1,
      "outputs": []
    },
    {
      "cell_type": "code",
      "metadata": {
        "id": "U4a7_XnQdKNE"
      },
      "source": [
        "TrainingRecord = namedtuple('TrainingRecord', ['ep', 'reward'])\n",
        "Transition = namedtuple('Transition', ['s', 'a', 'r', 's_'])"
      ],
      "execution_count": 2,
      "outputs": []
    },
    {
      "cell_type": "code",
      "metadata": {
        "id": "5wAR77Lrf7hi"
      },
      "source": [
        "class Critic(nn.Module):\n",
        "    def __init__(self, input_size, hidden_size, output_size):\n",
        "        super(Critic, self).__init__()\n",
        "        self.linear1 = nn.Linear(input_size, hidden_size)\n",
        "        self.linear2 = nn.Linear(hidden_size, hidden_size)\n",
        "        self.linear3 = nn.Linear(hidden_size, output_size)\n",
        "\n",
        "    def forward(self, state, action):\n",
        "        x = torch.cat([state, action], 1)\n",
        "        x = F.relu(self.linear1(x))\n",
        "        x = F.relu(self.linear2(x))\n",
        "        x = self.linear3(x)\n",
        "\n",
        "        return x"
      ],
      "execution_count": 3,
      "outputs": []
    },
    {
      "cell_type": "code",
      "metadata": {
        "id": "cN6M-h9WgBZM"
      },
      "source": [
        "class Actor(nn.Module):\n",
        "    def __init__(self, input_size, hidden_size, output_size):\n",
        "        super(Actor, self).__init__()\n",
        "        self.linear1 = nn.Linear(input_size, hidden_size)\n",
        "        self.linear2 = nn.Linear(hidden_size, hidden_size)\n",
        "        self.linear3 = nn.Linear(hidden_size, output_size)\n",
        "        \n",
        "    def forward(self, state):\n",
        "        x = F.relu(self.linear1(state))\n",
        "        x = F.relu(self.linear2(x))\n",
        "        x = torch.sigmoid(self.linear3(x))\n",
        "\n",
        "        return x"
      ],
      "execution_count": 4,
      "outputs": []
    },
    {
      "cell_type": "code",
      "metadata": {
        "id": "HJZxzYZ7f9UB"
      },
      "source": [
        "class Memory():\n",
        "\n",
        "    data_pointer = 0\n",
        "    isfull = False\n",
        "\n",
        "    def __init__(self, capacity):\n",
        "        self.memory = np.empty(capacity, dtype=object)\n",
        "        self.capacity = capacity\n",
        "\n",
        "    def update(self, transition):\n",
        "        self.memory[self.data_pointer] = transition\n",
        "        self.data_pointer += 1\n",
        "        if self.data_pointer == self.capacity:\n",
        "            self.data_pointer = 0\n",
        "            self.isfull = True\n",
        "\n",
        "    def sample(self, batch_size):\n",
        "        return np.random.choice(self.memory, batch_size)"
      ],
      "execution_count": 5,
      "outputs": []
    },
    {
      "cell_type": "code",
      "metadata": {
        "id": "Pvhn2ncUdbFh"
      },
      "source": [
        "class Critic(nn.Module):\n",
        "    def __init__(self, input_size, hidden_size, output_size):\n",
        "        super(Critic, self).__init__()\n",
        "        self.linear1 = nn.Linear(input_size, hidden_size)\n",
        "        self.linear2 = nn.Linear(hidden_size, hidden_size)\n",
        "        self.linear3 = nn.Linear(hidden_size, output_size)\n",
        "\n",
        "    def forward(self, state, action):\n",
        "        x = torch.cat([state, action], 1)\n",
        "        x = F.relu(self.linear1(x))\n",
        "        x = F.relu(self.linear2(x))\n",
        "        x = self.linear3(x)\n",
        "\n",
        "        return x\n",
        "\n",
        "class Actor(nn.Module):\n",
        "    def __init__(self, input_size, hidden_size, output_size):\n",
        "        super(Actor, self).__init__()\n",
        "        self.linear1 = nn.Linear(input_size, hidden_size)\n",
        "        self.linear2 = nn.Linear(hidden_size, hidden_size)\n",
        "        self.linear3 = nn.Linear(hidden_size, output_size)\n",
        "        \n",
        "    def forward(self, state):\n",
        "        x = F.relu(self.linear1(state))\n",
        "        x = F.relu(self.linear2(x))\n",
        "        x = torch.sigmoid(self.linear3(x))\n",
        "\n",
        "        return x\n",
        "\n",
        "\n",
        "class Memory():\n",
        "\n",
        "    data_pointer = 0\n",
        "    isfull = False\n",
        "\n",
        "    def __init__(self, capacity):\n",
        "        self.memory = np.empty(capacity, dtype=object)\n",
        "        self.capacity = capacity\n",
        "\n",
        "    def update(self, transition):\n",
        "        self.memory[self.data_pointer] = transition\n",
        "        self.data_pointer += 1\n",
        "        if self.data_pointer == self.capacity:\n",
        "            self.data_pointer = 0\n",
        "            self.isfull = True\n",
        "\n",
        "    def sample(self, batch_size):\n",
        "        return np.random.choice(self.memory, batch_size)\n",
        "\n",
        "\n",
        "class DDPGAgent():\n",
        "\n",
        "    max_grad_norm = 0.5\n",
        "\n",
        "    def __init__(self, env, hidden_size=256, gamma=0.9, cuda=False):\n",
        "        self.gamma = gamma\n",
        "        self.env = env\n",
        "        self.training_step = 0\n",
        "        self.var = 1.\n",
        "        self.cuda = cuda\n",
        "\n",
        "        if len(env.observation_space.shape) == 2: # 2d input\n",
        "            self.num_states = env.observation_space.shape[0] * env.observation_space.shape[1]\n",
        "        else:\n",
        "            self.num_states = env.observation_space.shape[0]\n",
        "\n",
        "        self.num_actions = env.action_space.shape[0]\n",
        "\n",
        "        self.eval_cnet, self.target_cnet = Critic(self.num_states + self.num_actions, hidden_size, self.num_actions).float(), Critic(self.num_states + self.num_actions, hidden_size, self.num_actions).float()\n",
        "        self.eval_anet, self.target_anet = Actor(self.num_states, hidden_size, self.num_actions).float(), Actor(self.num_states, hidden_size, self.num_actions).float()\n",
        "        self.memory = Memory(2000)\n",
        "        self.optimizer_c = optim.Adam(self.eval_cnet.parameters(), lr=1e-3)\n",
        "        self.optimizer_a = optim.Adam(self.eval_anet.parameters(), lr=3e-4)\n",
        "\n",
        "        if cuda:\n",
        "            self.eval_cnet = self.eval_cnet.cuda()\n",
        "            self.target_cnet = self.target_cnet.cuda()\n",
        "            self.eval_anet = self.eval_anet.cuda()\n",
        "            self.target_anet = self.target_anet.cuda()\n",
        "\n",
        "    def select_action(self, state):\n",
        "        if self.cuda:\n",
        "            state = torch.from_numpy(state).cuda().float().unsqueeze(0)\n",
        "        else:\n",
        "            state = torch.from_numpy(state).float().unsqueeze(0)\n",
        "        mu = self.eval_anet(state).cpu()\n",
        "        dist = Normal(mu, torch.tensor(self.var, dtype=torch.float))\n",
        "        action = dist.sample()\n",
        "        action.clamp(0, 1)\n",
        "        return (action.detach().numpy(),)\n",
        "\n",
        "    def save_param(self):\n",
        "        torch.save(self.eval_anet.state_dict(), 'param/ddpg_anet_params.pkl')\n",
        "        torch.save(self.eval_cnet.state_dict(), 'param/ddpg_cnet_params.pkl')\n",
        "\n",
        "    def store_transition(self, transition):\n",
        "        self.memory.update(transition)\n",
        "\n",
        "    def update(self, batch_size):\n",
        "        self.training_step += 1\n",
        "\n",
        "        transitions = self.memory.sample(batch_size)\n",
        "        s = torch.tensor([t.s for t in transitions], dtype=torch.float)\n",
        "        a = torch.tensor([t.a for t in transitions], dtype=torch.float).view(-1, self.num_actions)\n",
        "        r = torch.tensor([t.r for t in transitions], dtype=torch.float).view(-1, 1)\n",
        "        s_ = torch.tensor([t.s_ for t in transitions], dtype=torch.float)\n",
        "\n",
        "        if self.cuda:\n",
        "            s = s.cuda()\n",
        "            a = a.cuda()\n",
        "            r = r.cuda()\n",
        "            s_ = s_.cuda()\n",
        "\n",
        "\n",
        "        with torch.no_grad():\n",
        "            q_target = r + self.gamma * self.target_cnet(s_, self.target_anet(s_))\n",
        "        q_eval = self.eval_cnet(s, a)\n",
        "\n",
        "        # update critic net\n",
        "        self.optimizer_c.zero_grad()\n",
        "        c_loss = F.smooth_l1_loss(q_eval, q_target)\n",
        "        c_loss.backward()\n",
        "        nn.utils.clip_grad_norm_(self.eval_cnet.parameters(), self.max_grad_norm)\n",
        "        self.optimizer_c.step()\n",
        "\n",
        "        # update actor net\n",
        "        self.optimizer_a.zero_grad()\n",
        "        a_loss = -self.eval_cnet(s, self.eval_anet(s)).mean()\n",
        "        a_loss.backward()\n",
        "        nn.utils.clip_grad_norm_(self.eval_anet.parameters(), self.max_grad_norm)\n",
        "        self.optimizer_a.step()\n",
        "\n",
        "        if self.training_step % 200 == 0:\n",
        "            self.target_cnet.load_state_dict(self.eval_cnet.state_dict())\n",
        "        if self.training_step % 201 == 0:\n",
        "            self.target_anet.load_state_dict(self.eval_anet.state_dict())\n",
        "\n",
        "        self.var = max(self.var * 0.999, 0.01)\n",
        "\n",
        "        return q_eval.mean().item()\n"
      ],
      "execution_count": 6,
      "outputs": []
    },
    {
      "cell_type": "code",
      "metadata": {
        "colab": {
          "base_uri": "https://localhost:8080/"
        },
        "id": "J1loOpSsdsIu",
        "outputId": "236269bb-8a7c-4c42-db47-ec2876269c98"
      },
      "source": [
        "print('loading data')\n",
        "data = DataReader('GOGL', 'yahoo', start='2000-01-01', end='2021-01-01')\n",
        "\n",
        "print(data.describe())\n",
        "\n",
        "\n",
        "test_data = data.tail(365)\n",
        "train_data = data.head(-365)\n",
        "\n",
        "print(len(train_data))"
      ],
      "execution_count": 7,
      "outputs": [
        {
          "output_type": "stream",
          "name": "stdout",
          "text": [
            "loading data\n",
            "              High          Low         Open        Close        Volume  \\\n",
            "count  5285.000000  5285.000000  5285.000000  5285.000000  5.285000e+03   \n",
            "mean     71.977223    69.307737    70.737365    70.635272  9.312302e+04   \n",
            "std      54.467648    52.628059    53.671556    53.556911  1.316300e+05   \n",
            "min       2.770000     2.520000     2.650000     2.550000  5.000000e+02   \n",
            "25%      13.700000    12.850000    13.350000    13.300000  2.362000e+04   \n",
            "50%      70.900002    68.349998    69.650002    69.550003  4.330000e+04   \n",
            "75%     114.949997   110.849998   113.099998   112.849998  1.042800e+05   \n",
            "max     237.500000   231.500000   235.000000   234.750000  2.127300e+06   \n",
            "\n",
            "         Adj Close  \n",
            "count  5285.000000  \n",
            "mean     31.200699  \n",
            "std      22.912915  \n",
            "min       2.328791  \n",
            "25%      10.283531  \n",
            "50%      24.550537  \n",
            "75%      51.769726  \n",
            "max      87.927231  \n",
            "4920\n"
          ]
        }
      ]
    },
    {
      "cell_type": "code",
      "metadata": {
        "colab": {
          "base_uri": "https://localhost:8080/"
        },
        "id": "E2xRFQ9Sd6fH",
        "outputId": "31cdf1fe-1c6c-47ce-f8e8-8d9f8bd2b48d"
      },
      "source": [
        "env = CustomStockEnv(\n",
        "    stock_df = train_data,\n",
        "    pred_df = train_data,\n",
        "    window_size = 14,\n",
        "    initial_balance = 5000,\n",
        "    min_percent_loss = .5,\n",
        "    with_pred=False\n",
        "    )\n",
        "\n",
        "test_env = CustomStockEnv(\n",
        "    stock_df = test_data,\n",
        "    pred_df = test_data,\n",
        "    window_size = 14,\n",
        "    initial_balance = 5000,\n",
        "    min_percent_loss = .5,\n",
        "    with_pred=False,\n",
        "    test_env=True,\n",
        "    train_df=train_data\n",
        "    )"
      ],
      "execution_count": 8,
      "outputs": [
        {
          "output_type": "stream",
          "name": "stdout",
          "text": [
            "This is a testing environment, scaling based on training data.\n",
            "C:\\Python38\\lib\\site-packages\\gym\\logger.py:30: UserWarning: \u001b[33mWARN: Box bound precision lowered by casting to float16\u001b[0m\n",
            "  warnings.warn(colorize('%s: %s'%('WARN', msg % args), 'yellow'))\n",
            "C:\\Python38\\lib\\site-packages\\gym\\logger.py:30: UserWarning: \u001b[33mWARN: Box bound precision lowered by casting to float16\u001b[0m\n",
            "  warnings.warn(colorize('%s: %s'%('WARN', msg % args), 'yellow'))\n"
          ]
        }
      ]
    },
    {
      "cell_type": "code",
      "metadata": {
        "id": "ljWXgyw8eOFE"
      },
      "source": [
        "log_interval = 10"
      ],
      "execution_count": 9,
      "outputs": []
    },
    {
      "cell_type": "code",
      "metadata": {
        "id": "ka1eMznQzk6N"
      },
      "source": [
        "agent = DDPGAgent(env, cuda=True)"
      ],
      "execution_count": 12,
      "outputs": []
    },
    {
      "cell_type": "code",
      "metadata": {
        "colab": {
          "base_uri": "https://localhost:8080/",
          "height": 379
        },
        "id": "lK7FN4s9eCRM",
        "outputId": "4b3151b6-d0ca-4933-d321-e0b603c83ac0"
      },
      "source": [
        "training_records = []\n",
        "running_reward, running_q = -1000, 0\n",
        "for i_ep in range(50):\n",
        "    score = 0\n",
        "    state = env.reset()\n",
        "    state = state.to_numpy().reshape(-1)\n",
        "    for t in range(2000):\n",
        "        action = agent.select_action(state)[0]\n",
        "        state_, reward, done, _ = env.step(action[0])\n",
        "        score += reward\n",
        "        # if args.render:\n",
        "        #     env.render()\n",
        "        state_ = state_.to_numpy().reshape(-1)\n",
        "        agent.store_transition(Transition(state, action, (reward + 8) / 8, state_))\n",
        "        state = state_\n",
        "        if agent.memory.isfull:\n",
        "            q = agent.update(128)\n",
        "            running_q = 0.99 * running_q + 0.01 * q\n",
        "\n",
        "    running_reward = running_reward * 0.9 + score * 0.1\n",
        "    training_records.append(TrainingRecord(i_ep, running_reward))\n",
        "\n",
        "    if i_ep % log_interval == 0:\n",
        "        print('Step {}\\tAverage score: {:.2f}\\tAverage Q: {:.2f}'.format(\n",
        "            i_ep, running_reward, running_q))\n",
        "    if running_reward > 1000:\n",
        "        print(\"Solved! Running reward is now {}!\".format(running_reward))\n",
        "        env.close()\n",
        "        # agent.save_param()\n",
        "        # with open('log/ddpg_training_records.pkl', 'wb') as f:\n",
        "        #     pickle.dump(training_records, f)\n",
        "        break\n",
        "\n",
        "env.close()\n",
        "\n",
        "plt.plot([r.ep for r in training_records], [r.reward for r in training_records])\n",
        "plt.title('DDPG')\n",
        "plt.xlabel('Episode')\n",
        "plt.ylabel('Moving averaged episode reward')\n",
        "# plt.savefig(\"ddpg.png\")\n",
        "plt.show()"
      ],
      "execution_count": 17,
      "outputs": [
        {
          "output_type": "stream",
          "text": [
            "Step 0\tAverage score: -10203.52\tAverage Q: -0.00\n",
            "Step 10\tAverage score: -2075.71\tAverage Q: 11.60\n",
            "Step 20\tAverage score: -10218.63\tAverage Q: 10.40\n",
            "Step 30\tAverage score: -23698.26\tAverage Q: -3.68\n",
            "Step 40\tAverage score: -27541.85\tAverage Q: -31.50\n"
          ],
          "name": "stdout"
        },
        {
          "output_type": "display_data",
          "data": {
            "image/png": "[encoded data removed]",
            "text/plain": [
              "<Figure size 432x288 with 1 Axes>"
            ]
          },
          "metadata": {
            "tags": [],
            "needs_background": "light"
          }
        }
      ]
    },
    {
      "cell_type": "code",
      "metadata": {
        "colab": {
          "base_uri": "https://localhost:8080/"
        },
        "id": "-5zgyuVbeDZM",
        "outputId": "281bdcdb-f278-4689-f48a-6611c3689f6b"
      },
      "source": [
        "state = test_env.reset()\n",
        "while True:\n",
        "    action = agent.select_action(state.to_numpy().reshape(-1))[0]\n",
        "    state_, reward, done, _ = test_env.step(action[0])\n",
        "    state = state_\n",
        "\n",
        "    if done:\n",
        "        test_env.render()\n",
        "        # state = env.reset()\n",
        "        break"
      ],
      "execution_count": 15,
      "outputs": [
        {
          "output_type": "stream",
          "name": "stdout",
          "text": [
            "mode: without preditions\nStep: 14\ninitial_balance: 5000\nmin_balance: 2500.0\nBalance: 2.4074205339229593\nShares held: 2852 (Total sold: 104422)\nAvg cost for held shares: 4.2728616176579575 (Total sales value: 403527.0909104166)\nNet worth: 12785.394478764953 (Max net worth: 12791.768153902854)\nProfit: 7785.3944787649525\n"
          ]
        }
      ]
    },
    {
      "cell_type": "code",
      "metadata": {
        "id": "c5RK_qIfflSw"
      },
      "source": [
        "torch.save(agent.eval_cnet.state_dict(),'models/ddpg_eval_cnet.pt')\n",
        "torch.save(agent.target_cnet.state_dict(),'models/ddpg_target_cnet.pt')\n",
        "torch.save(agent.eval_anet.state_dict(),'models/ddpg_eval_anet.pt')\n",
        "torch.save(agent.target_anet.state_dict(),'models/ddpg_target_anet.pt')"
      ],
      "execution_count": 36,
      "outputs": []
    },
    {
      "cell_type": "code",
      "execution_count": 11,
      "metadata": {},
      "outputs": [],
      "source": [
        "agent = DDPGAgent(env, cuda=False)"
      ]
    },
    {
      "cell_type": "code",
      "metadata": {
        "id": "p16diDKFtg3m"
      },
      "source": [
        "agent.eval_cnet.load_state_dict(torch.load('models/ddpg_eval_cnet.pt', map_location=torch.device('cpu')))\n",
        "agent.target_cnet.load_state_dict(torch.load('models/ddpg_target_cnet.pt', map_location=torch.device('cpu')))\n",
        "agent.eval_anet.load_state_dict(torch.load('models/ddpg_eval_anet.pt', map_location=torch.device('cpu')))\n",
        "agent.target_anet.load_state_dict(torch.load('models/ddpg_target_anet.pt', map_location=torch.device('cpu')))"
      ],
      "execution_count": 12,
      "outputs": [
        {
          "output_type": "execute_result",
          "data": {
            "text/plain": [
              "<All keys matched successfully>"
            ]
          },
          "metadata": {},
          "execution_count": 12
        }
      ]
    },
    {
      "cell_type": "code",
      "execution_count": 20,
      "metadata": {},
      "outputs": [
        {
          "output_type": "stream",
          "name": "stdout",
          "text": [
            "finished sim 1/10\n",
            "finished sim 2/10\n",
            "finished sim 3/10\n",
            "finished sim 4/10\n",
            "finished sim 5/10\n",
            "finished sim 6/10\n",
            "finished sim 7/10\n",
            "finished sim 8/10\n",
            "finished sim 9/10\n",
            "finished sim 10/10\n",
            "made profit - 0.5\n"
          ]
        }
      ],
      "source": [
        "profits = []\n",
        "sims = 10\n",
        "\n",
        "sim_infos = []\n",
        "\n",
        "for i in range(sims):\n",
        "    infos = []\n",
        "    obs = test_env.reset()\n",
        "    while True:\n",
        "        action = agent.select_action(obs.to_numpy().reshape(-1))[0]\n",
        "        obs_, reward, done, info = test_env.step(action[0])\n",
        "        obs = obs_\n",
        "        infos.append(info)\n",
        "        if done: \n",
        "            profits.append(info['profit'])\n",
        "            # test_env.render()\n",
        "            sim_infos.append(infos)\n",
        "            break\n",
        "\n",
        "    \n",
        "\n",
        "    print('finished sim %d/%d'%(i+1,sims))\n",
        "\n",
        "pos_count = len(list(filter(lambda x: (x >= 0), profits))) \n",
        "print('made profit - ' + str(pos_count/len(profits)))"
      ]
    },
    {
      "cell_type": "code",
      "execution_count": 21,
      "metadata": {},
      "outputs": [
        {
          "output_type": "stream",
          "name": "stdout",
          "text": [
            "Our method (DDPG)\nResults for 365 days\nMax Net Worth: 9488.604921888713\nMean Net Worth: 5459.23668302412\nMax ROI: 0.8977209843777426\nMean ROI: 0.09184733660482397\n"
          ]
        }
      ],
      "source": [
        "print('Our method (DDPG)')\n",
        "\n",
        "end_point_net_worth = []\n",
        "\n",
        "for run in sim_infos:\n",
        "        end_point_net_worth.append(run[-1]['net_worth'])\n",
        "        \n",
        "max_run = np.argmax(end_point_net_worth)\n",
        "\n",
        "print('Results for {} days'.format(365))\n",
        "print('Max Net Worth: {}'.format(end_point_net_worth[max_run]))\n",
        "print('Mean Net Worth: {}'.format(np.mean(end_point_net_worth)))\n",
        "print('Max ROI: {}'.format(np.mean((end_point_net_worth[max_run])-5000) / 5000))\n",
        "print('Mean ROI: {}'.format((np.mean(end_point_net_worth) - 5000) / 5000))"
      ]
    },
    {
      "cell_type": "code",
      "execution_count": null,
      "metadata": {},
      "outputs": [],
      "source": []
    }
  ]
}